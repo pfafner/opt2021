{
 "cells": [
  {
   "cell_type": "markdown",
   "metadata": {},
   "source": [
    "# <center> **Factoración de Cholesky** </center>\n",
    "## <font size=4> **Métodos Numéricos II** </font> <font color=gray size=4> -- Alan Reyes-Figueroa </font>"
   ]
  },
  {
   "cell_type": "code",
   "execution_count": 1,
   "metadata": {},
   "outputs": [],
   "source": [
    "import numpy as np\n",
    "from scipy import linalg as lg"
   ]
  },
  {
   "cell_type": "code",
   "execution_count": 2,
   "metadata": {},
   "outputs": [],
   "source": [
    "from LLT_LDLT import Cholesky, LDLt"
   ]
  },
  {
   "cell_type": "markdown",
   "metadata": {},
   "source": [
    "## Descomposición de Cholesky"
   ]
  },
  {
   "cell_type": "code",
   "execution_count": 3,
   "metadata": {},
   "outputs": [
    {
     "name": "stdout",
     "output_type": "stream",
     "text": [
      "[[8. 7. 9. 5.]\n",
      " [7. 3. 3. 1.]\n",
      " [9. 3. 1. 0.]\n",
      " [5. 1. 0. 8.]]\n"
     ]
    }
   ],
   "source": [
    "M = np.array([[8.,7,9,5], [7,3,3,1], [9,3,1,0], [5,1,0,8]])\n",
    "print(M)"
   ]
  },
  {
   "cell_type": "code",
   "execution_count": 4,
   "metadata": {},
   "outputs": [
    {
     "ename": "Exception",
     "evalue": "matrix is not positive definite",
     "output_type": "error",
     "traceback": [
      "\u001b[0;31m---------------------------------------------------------------------------\u001b[0m",
      "\u001b[0;31mException\u001b[0m                                 Traceback (most recent call last)",
      "\u001b[0;32m<ipython-input-4-b54e4088146c>\u001b[0m in \u001b[0;36m<module>\u001b[0;34m()\u001b[0m\n\u001b[0;32m----> 1\u001b[0;31m \u001b[0mR\u001b[0m \u001b[0;34m=\u001b[0m \u001b[0mCholesky\u001b[0m\u001b[0;34m(\u001b[0m\u001b[0mM\u001b[0m\u001b[0;34m)\u001b[0m\u001b[0;34m\u001b[0m\u001b[0;34m\u001b[0m\u001b[0m\n\u001b[0m",
      "\u001b[0;32m/media/alan/0712d51a-759f-409b-930f-95809d8004c2/home/alanreyes/Escritorio/UVG 2021/Optimización/Code/LLT_LDLT.py\u001b[0m in \u001b[0;36mCholesky\u001b[0;34m(A)\u001b[0m\n\u001b[1;32m     15\u001b[0m             \u001b[0;31m#print('Paso columna {}: \\n'.format(j+1))\u001b[0m\u001b[0;34m\u001b[0m\u001b[0;34m\u001b[0m\u001b[0;34m\u001b[0m\u001b[0m\n\u001b[1;32m     16\u001b[0m             \u001b[0;32mif\u001b[0m \u001b[0;34m(\u001b[0m\u001b[0mR\u001b[0m\u001b[0;34m[\u001b[0m\u001b[0mk\u001b[0m\u001b[0;34m,\u001b[0m\u001b[0mk\u001b[0m\u001b[0;34m]\u001b[0m \u001b[0;34m<=\u001b[0m \u001b[0;36m0\u001b[0m\u001b[0;34m)\u001b[0m\u001b[0;34m:\u001b[0m\u001b[0;34m\u001b[0m\u001b[0;34m\u001b[0m\u001b[0m\n\u001b[0;32m---> 17\u001b[0;31m                 \u001b[0;32mraise\u001b[0m \u001b[0mException\u001b[0m\u001b[0;34m(\u001b[0m\u001b[0;34m'matrix is not positive definite'\u001b[0m\u001b[0;34m)\u001b[0m\u001b[0;34m\u001b[0m\u001b[0;34m\u001b[0m\u001b[0m\n\u001b[0m\u001b[1;32m     18\u001b[0m             \u001b[0;32melse\u001b[0m\u001b[0;34m:\u001b[0m\u001b[0;34m\u001b[0m\u001b[0;34m\u001b[0m\u001b[0m\n\u001b[1;32m     19\u001b[0m                 \u001b[0;32mfor\u001b[0m \u001b[0mj\u001b[0m \u001b[0;32min\u001b[0m \u001b[0mrange\u001b[0m\u001b[0;34m(\u001b[0m\u001b[0mk\u001b[0m\u001b[0;34m+\u001b[0m\u001b[0;36m1\u001b[0m\u001b[0;34m,\u001b[0m \u001b[0mn\u001b[0m\u001b[0;34m)\u001b[0m\u001b[0;34m:\u001b[0m\u001b[0;34m\u001b[0m\u001b[0;34m\u001b[0m\u001b[0m\n",
      "\u001b[0;31mException\u001b[0m: matrix is not positive definite"
     ]
    }
   ],
   "source": [
    "R = Cholesky(M)"
   ]
  },
  {
   "cell_type": "code",
   "execution_count": null,
   "metadata": {},
   "outputs": [],
   "source": []
  },
  {
   "cell_type": "code",
   "execution_count": 5,
   "metadata": {},
   "outputs": [
    {
     "name": "stdout",
     "output_type": "stream",
     "text": [
      "[[ 4.   -1.    1.  ]\n",
      " [-1.    4.25  2.75]\n",
      " [ 1.    2.75  3.5 ]]\n"
     ]
    }
   ],
   "source": [
    "A = np.array([[4.,-1,1], [-1,4.25,2.75], [1,2.75, 3.5]])\n",
    "print(A)"
   ]
  },
  {
   "cell_type": "code",
   "execution_count": 6,
   "metadata": {},
   "outputs": [],
   "source": [
    "R = Cholesky(A)"
   ]
  },
  {
   "cell_type": "code",
   "execution_count": 7,
   "metadata": {},
   "outputs": [
    {
     "data": {
      "text/plain": [
       "array([[ 2. , -0.5,  0.5],\n",
       "       [ 0. ,  2. ,  1.5],\n",
       "       [ 0. ,  0. ,  1. ]])"
      ]
     },
     "execution_count": 7,
     "metadata": {},
     "output_type": "execute_result"
    }
   ],
   "source": [
    "R"
   ]
  },
  {
   "cell_type": "code",
   "execution_count": 8,
   "metadata": {},
   "outputs": [
    {
     "data": {
      "text/plain": [
       "array([[ 4.  , -1.  ,  1.  ],\n",
       "       [-1.  ,  4.25,  2.75],\n",
       "       [ 1.  ,  2.75,  3.5 ]])"
      ]
     },
     "execution_count": 8,
     "metadata": {},
     "output_type": "execute_result"
    }
   ],
   "source": [
    "R.T @ R"
   ]
  },
  {
   "cell_type": "code",
   "execution_count": 9,
   "metadata": {},
   "outputs": [
    {
     "data": {
      "text/plain": [
       "array([[ 2. , -0.5,  0.5],\n",
       "       [ 0. ,  2. ,  1.5],\n",
       "       [ 0. ,  0. ,  1. ]])"
      ]
     },
     "execution_count": 9,
     "metadata": {},
     "output_type": "execute_result"
    }
   ],
   "source": [
    "lg.cholesky(A)"
   ]
  },
  {
   "cell_type": "code",
   "execution_count": null,
   "metadata": {},
   "outputs": [],
   "source": []
  },
  {
   "cell_type": "code",
   "execution_count": 10,
   "metadata": {},
   "outputs": [],
   "source": [
    "L, D = LDLt(A)"
   ]
  },
  {
   "cell_type": "code",
   "execution_count": 11,
   "metadata": {},
   "outputs": [
    {
     "name": "stdout",
     "output_type": "stream",
     "text": [
      "[[ 1.    0.    0.  ]\n",
      " [-0.25  1.    0.  ]\n",
      " [ 0.25  0.75  1.  ]]\n"
     ]
    }
   ],
   "source": [
    "print(L)"
   ]
  },
  {
   "cell_type": "code",
   "execution_count": 12,
   "metadata": {},
   "outputs": [
    {
     "name": "stdout",
     "output_type": "stream",
     "text": [
      "[[4. 0. 0.]\n",
      " [0. 4. 0.]\n",
      " [0. 0. 1.]]\n"
     ]
    }
   ],
   "source": [
    "print(D)"
   ]
  },
  {
   "cell_type": "code",
   "execution_count": 13,
   "metadata": {},
   "outputs": [
    {
     "data": {
      "text/plain": [
       "array([[ 4.  , -1.  ,  1.  ],\n",
       "       [-1.  ,  4.25,  2.75],\n",
       "       [ 1.  ,  2.75,  3.5 ]])"
      ]
     },
     "execution_count": 13,
     "metadata": {},
     "output_type": "execute_result"
    }
   ],
   "source": [
    "L @ D @ L.T"
   ]
  },
  {
   "cell_type": "code",
   "execution_count": null,
   "metadata": {},
   "outputs": [],
   "source": []
  },
  {
   "cell_type": "code",
   "execution_count": 14,
   "metadata": {},
   "outputs": [
    {
     "name": "stdout",
     "output_type": "stream",
     "text": [
      "[[8. 1. 2. 4.]\n",
      " [1. 6. 1. 3.]\n",
      " [2. 1. 5. 0.]\n",
      " [4. 3. 0. 7.]]\n"
     ]
    }
   ],
   "source": [
    "B = np.array([[8.,1,2,4], [1,6,1,3], [2,1,5,0], [4,3,0,7]])\n",
    "print(B)"
   ]
  },
  {
   "cell_type": "code",
   "execution_count": 15,
   "metadata": {},
   "outputs": [],
   "source": [
    "R = Cholesky(B)"
   ]
  },
  {
   "cell_type": "code",
   "execution_count": 16,
   "metadata": {},
   "outputs": [
    {
     "data": {
      "text/plain": [
       "(array([13.05517529+0.j,  1.83243025+0.j,  6.03679177+0.j,  5.07560269+0.j]),\n",
       " array([[ 0.65002477,  0.47510272,  0.54436109,  0.23540645],\n",
       "        [ 0.38562664,  0.43983077, -0.61636985, -0.5271899 ],\n",
       "        [ 0.20926623, -0.43883366,  0.45559036, -0.74570107],\n",
       "        [ 0.62045752, -0.62309816, -0.34087626,  0.33254252]]))"
      ]
     },
     "execution_count": 16,
     "metadata": {},
     "output_type": "execute_result"
    }
   ],
   "source": [
    "lg.eig(B)"
   ]
  },
  {
   "cell_type": "code",
   "execution_count": 17,
   "metadata": {},
   "outputs": [
    {
     "data": {
      "text/plain": [
       "array([[ 8.00000000e+00,  1.00000000e+00,  2.00000000e+00,\n",
       "         4.00000000e+00],\n",
       "       [ 1.00000000e+00,  6.00000000e+00,  1.00000000e+00,\n",
       "         3.00000000e+00],\n",
       "       [ 2.00000000e+00,  1.00000000e+00,  5.00000000e+00,\n",
       "        -2.22044605e-16],\n",
       "       [ 4.00000000e+00,  3.00000000e+00, -2.22044605e-16,\n",
       "         7.00000000e+00]])"
      ]
     },
     "execution_count": 17,
     "metadata": {},
     "output_type": "execute_result"
    }
   ],
   "source": [
    "R.T @ R"
   ]
  },
  {
   "cell_type": "code",
   "execution_count": 18,
   "metadata": {},
   "outputs": [],
   "source": [
    "L, D = LDLt(B)"
   ]
  },
  {
   "cell_type": "code",
   "execution_count": 19,
   "metadata": {},
   "outputs": [
    {
     "name": "stdout",
     "output_type": "stream",
     "text": [
      "[[ 1.00000000e+00  0.00000000e+00  0.00000000e+00  0.00000000e+00]\n",
      " [ 1.25000000e-01  1.00000000e+00  1.11022302e-16  0.00000000e+00]\n",
      " [ 2.50000000e-01  1.27659574e-01  1.00000000e+00  0.00000000e+00]\n",
      " [ 5.00000000e-01  4.25531915e-01 -2.99516908e-01  1.00000000e+00]]\n"
     ]
    }
   ],
   "source": [
    "print(L)"
   ]
  },
  {
   "cell_type": "code",
   "execution_count": 20,
   "metadata": {},
   "outputs": [
    {
     "name": "stdout",
     "output_type": "stream",
     "text": [
      "[[8.         0.         0.         0.        ]\n",
      " [0.         5.875      0.         0.        ]\n",
      " [0.         0.         4.40425532 0.        ]\n",
      " [0.         0.         0.         3.5410628 ]]\n"
     ]
    }
   ],
   "source": [
    "print(D)"
   ]
  },
  {
   "cell_type": "code",
   "execution_count": 21,
   "metadata": {},
   "outputs": [
    {
     "data": {
      "text/plain": [
       "array([[8.00000000e+00, 1.00000000e+00, 2.00000000e+00, 4.00000000e+00],\n",
       "       [1.00000000e+00, 6.00000000e+00, 1.00000000e+00, 3.00000000e+00],\n",
       "       [2.00000000e+00, 1.00000000e+00, 5.00000000e+00, 1.11022302e-16],\n",
       "       [4.00000000e+00, 3.00000000e+00, 5.55111512e-17, 7.00000000e+00]])"
      ]
     },
     "execution_count": 21,
     "metadata": {},
     "output_type": "execute_result"
    }
   ],
   "source": [
    "L @ D @ L.T"
   ]
  },
  {
   "cell_type": "markdown",
   "metadata": {},
   "source": [
    "## Determinar si una matriz es Positiva Definida"
   ]
  },
  {
   "cell_type": "code",
   "execution_count": 22,
   "metadata": {},
   "outputs": [],
   "source": [
    "def isPositive(A):\n",
    "    m, n = A.shape\n",
    "    if (m != n):\n",
    "        raise Exception('matrix is not square')\n",
    "    elif not np.all(A.T == A):\n",
    "        raise Exception('matrix is not symmetric')\n",
    "    else:\n",
    "        R = A.copy()    \n",
    "        for k in range(0, n):\n",
    "            if (R[k,k] <= 0):\n",
    "                return False\n",
    "            else:\n",
    "                for j in range(k+1, n):\n",
    "                    R[j,k:n] = R[j,k:n] - (R[k,j] / R[k,k]) * R[k,k:n]\n",
    "                R[k,k:n] = R[k,k:n] / np.sqrt(R[k,k])\n",
    "    return True"
   ]
  },
  {
   "cell_type": "code",
   "execution_count": 23,
   "metadata": {},
   "outputs": [
    {
     "data": {
      "text/plain": [
       "True"
      ]
     },
     "execution_count": 23,
     "metadata": {},
     "output_type": "execute_result"
    }
   ],
   "source": [
    "isPositive(A)"
   ]
  },
  {
   "cell_type": "code",
   "execution_count": 24,
   "metadata": {},
   "outputs": [
    {
     "data": {
      "text/plain": [
       "False"
      ]
     },
     "execution_count": 24,
     "metadata": {},
     "output_type": "execute_result"
    }
   ],
   "source": [
    "isPositive(M)"
   ]
  },
  {
   "cell_type": "code",
   "execution_count": null,
   "metadata": {},
   "outputs": [],
   "source": []
  },
  {
   "cell_type": "code",
   "execution_count": 25,
   "metadata": {},
   "outputs": [],
   "source": [
    "S, V = lg.eig(A)"
   ]
  },
  {
   "cell_type": "code",
   "execution_count": 26,
   "metadata": {},
   "outputs": [
    {
     "data": {
      "text/plain": [
       "array([[ 4.  , -1.  ,  1.  ],\n",
       "       [-1.  ,  4.25,  2.75],\n",
       "       [ 1.  ,  2.75,  3.5 ]])"
      ]
     },
     "execution_count": 26,
     "metadata": {},
     "output_type": "execute_result"
    }
   ],
   "source": [
    "A"
   ]
  },
  {
   "cell_type": "code",
   "execution_count": 27,
   "metadata": {},
   "outputs": [
    {
     "data": {
      "text/plain": [
       "array([[ 4.  , -1.  ,  1.  ],\n",
       "       [-1.  ,  4.25,  2.75],\n",
       "       [ 1.  ,  2.75,  3.5 ]])"
      ]
     },
     "execution_count": 27,
     "metadata": {},
     "output_type": "execute_result"
    }
   ],
   "source": [
    "V @ np.diag(np.abs(S)) @ V.T"
   ]
  },
  {
   "cell_type": "markdown",
   "metadata": {},
   "source": [
    "## Hallar la matriz Definida Positiva más cercana"
   ]
  },
  {
   "cell_type": "code",
   "execution_count": 28,
   "metadata": {},
   "outputs": [],
   "source": [
    "def nearestPositive(A, eps=1e-16):\n",
    "    m, n = A.shape\n",
    "    if (m != n):\n",
    "        raise Exception('matrix is not square')\n",
    "    elif not np.all(A.T == A):\n",
    "        raise Exception('matrix is not symmetric')\n",
    "    else:\n",
    "        S, V = lg.eig(A)\n",
    "        S = np.abs(S)\n",
    "        S[S <= 0.] = eps  # cambiar autovalores negativos a eps\n",
    "    return V @ np.diag(S) @ V.T"
   ]
  },
  {
   "cell_type": "code",
   "execution_count": 29,
   "metadata": {},
   "outputs": [],
   "source": [
    "Ap = nearestPositive(A)"
   ]
  },
  {
   "cell_type": "code",
   "execution_count": 30,
   "metadata": {},
   "outputs": [
    {
     "data": {
      "text/plain": [
       "array([[ 4.  , -1.  ,  1.  ],\n",
       "       [-1.  ,  4.25,  2.75],\n",
       "       [ 1.  ,  2.75,  3.5 ]])"
      ]
     },
     "execution_count": 30,
     "metadata": {},
     "output_type": "execute_result"
    }
   ],
   "source": [
    "A"
   ]
  },
  {
   "cell_type": "code",
   "execution_count": 31,
   "metadata": {},
   "outputs": [
    {
     "data": {
      "text/plain": [
       "array([[ 0.  , -1.  ,  1.  ],\n",
       "       [-1.  ,  4.25,  2.75],\n",
       "       [ 1.  ,  2.75,  3.5 ]])"
      ]
     },
     "execution_count": 31,
     "metadata": {},
     "output_type": "execute_result"
    }
   ],
   "source": [
    "C = A.copy()\n",
    "C[0,0] = 0.\n",
    "C"
   ]
  },
  {
   "cell_type": "code",
   "execution_count": 32,
   "metadata": {},
   "outputs": [
    {
     "data": {
      "text/plain": [
       "False"
      ]
     },
     "execution_count": 32,
     "metadata": {},
     "output_type": "execute_result"
    }
   ],
   "source": [
    "isPositive(C)"
   ]
  },
  {
   "cell_type": "code",
   "execution_count": 33,
   "metadata": {},
   "outputs": [],
   "source": [
    "Cp = nearestPositive(C, eps=1e-16)"
   ]
  },
  {
   "cell_type": "code",
   "execution_count": 34,
   "metadata": {},
   "outputs": [
    {
     "data": {
      "text/plain": [
       "array([[ 1.31600302, -0.39618743,  0.33342399],\n",
       "       [-0.39618743,  4.52704315,  2.44415954],\n",
       "       [ 0.33342399,  2.44415954,  3.83763112]])"
      ]
     },
     "execution_count": 34,
     "metadata": {},
     "output_type": "execute_result"
    }
   ],
   "source": [
    "Cp"
   ]
  },
  {
   "cell_type": "code",
   "execution_count": 35,
   "metadata": {},
   "outputs": [],
   "source": [
    "Mp = nearestPositive(M, eps=1e-16)"
   ]
  },
  {
   "cell_type": "code",
   "execution_count": 36,
   "metadata": {},
   "outputs": [
    {
     "data": {
      "text/plain": [
       "array([[13.02872297,  5.02823558,  3.56008771,  3.36080352],\n",
       "       [ 5.02823558,  4.23531208,  4.70831055,  1.61579398],\n",
       "       [ 3.56008771,  4.70831055,  7.27494693,  1.79798065],\n",
       "       [ 3.36080352,  1.61579398,  1.79798065,  8.53589334]])"
      ]
     },
     "execution_count": 36,
     "metadata": {},
     "output_type": "execute_result"
    }
   ],
   "source": [
    "Mp"
   ]
  },
  {
   "cell_type": "code",
   "execution_count": null,
   "metadata": {},
   "outputs": [],
   "source": []
  }
 ],
 "metadata": {
  "kernelspec": {
   "display_name": "Python 3",
   "language": "python",
   "name": "python3"
  },
  "language_info": {
   "codemirror_mode": {
    "name": "ipython",
    "version": 3
   },
   "file_extension": ".py",
   "mimetype": "text/x-python",
   "name": "python",
   "nbconvert_exporter": "python",
   "pygments_lexer": "ipython3",
   "version": "3.6.10"
  }
 },
 "nbformat": 4,
 "nbformat_minor": 4
}
