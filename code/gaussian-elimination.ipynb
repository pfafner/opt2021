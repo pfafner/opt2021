{
 "cells": [
  {
   "cell_type": "markdown",
   "metadata": {},
   "source": [
    "# <center> **Eliminación Gaussiana y Factoración LU** </center>\n",
    "## <font size=4> **Métodos Numéricos II** </font> <font color=gray size=4> -- Alan Reyes-Figueroa </font>"
   ]
  },
  {
   "cell_type": "code",
   "execution_count": null,
   "metadata": {},
   "outputs": [],
   "source": [
    "import numpy as np\n",
    "from scipy import linalg as lg"
   ]
  },
  {
   "cell_type": "markdown",
   "metadata": {},
   "source": [
    "## Eliminación Gaussiana"
   ]
  },
  {
   "cell_type": "code",
   "execution_count": null,
   "metadata": {},
   "outputs": [],
   "source": [
    "# Algoritmo de eliminación gaussiana (o factoración LU), en el caso más simple\n",
    "def gaussianSimple(A):\n",
    "    ''' Finds the gaussian reduction (U) or the LU factorization of a matrix A.\n",
    "        Inputs:  A = matrix to reduce, as numpy array of shape (m,n).\n",
    "        Outputs: L = triangular inferior matrix of row reductions, as numpy array of shape (m,m).\n",
    "                 U = gaussian reduced matrix in row echelon form, as numpy array of shape (m,n).\n",
    "    '''\n",
    "    m, n = A.shape\n",
    "    U = A.copy()\n",
    "    L = np.eye(m)\n",
    "\n",
    "    for k in range(0, n-1):            # iteration over columns\n",
    "        for j in range(k+1, m):        # iteration over rows after k\n",
    "            if (U[k,k] != 0):\n",
    "                L[j,k] = U[j,k] / U[k,k]\n",
    "                U[j,k:n] = U[j,k:n] - L[j,k]*U[k,k:n]\n",
    "            else:\n",
    "                raise Exception('A has no LU factorization')\n",
    "    return L, U"
   ]
  },
  {
   "cell_type": "code",
   "execution_count": null,
   "metadata": {},
   "outputs": [],
   "source": [
    "A = np.array([[8,7,9,5], [4,3,3,1], [2.,1,1,0], [6,7,9,8]])\n",
    "print(A)"
   ]
  },
  {
   "cell_type": "code",
   "execution_count": null,
   "metadata": {},
   "outputs": [],
   "source": [
    "# descomposición LU\n",
    "L, U = gaussianSimple(A)"
   ]
  },
  {
   "cell_type": "code",
   "execution_count": null,
   "metadata": {},
   "outputs": [],
   "source": [
    "print(L, end='\\n\\n')\n",
    "\n",
    "print(U)"
   ]
  },
  {
   "cell_type": "code",
   "execution_count": null,
   "metadata": {},
   "outputs": [],
   "source": [
    "L @ U"
   ]
  },
  {
   "cell_type": "code",
   "execution_count": null,
   "metadata": {},
   "outputs": [],
   "source": []
  },
  {
   "cell_type": "code",
   "execution_count": null,
   "metadata": {},
   "outputs": [],
   "source": [
    "B = np.array([[1,3,2,5], [2,6,3,1], [2.,6,1,0], [-3,-9,7,8]])\n",
    "print(B)"
   ]
  },
  {
   "cell_type": "code",
   "execution_count": null,
   "metadata": {},
   "outputs": [],
   "source": [
    "L, U = gaussianSimple(B)"
   ]
  },
  {
   "cell_type": "code",
   "execution_count": null,
   "metadata": {},
   "outputs": [],
   "source": []
  },
  {
   "cell_type": "code",
   "execution_count": null,
   "metadata": {},
   "outputs": [],
   "source": [
    "C = np.array([[1,3,2,5], [2,6,3,1], [2.,8,1,0], [-3,-9,7,8]])\n",
    "print(C)"
   ]
  },
  {
   "cell_type": "code",
   "execution_count": null,
   "metadata": {},
   "outputs": [],
   "source": [
    "L, U = gaussianSimple(C)"
   ]
  },
  {
   "cell_type": "code",
   "execution_count": null,
   "metadata": {},
   "outputs": [],
   "source": []
  },
  {
   "cell_type": "code",
   "execution_count": null,
   "metadata": {},
   "outputs": [],
   "source": [
    "# non square matrix A\n",
    "D = np.array([[1.,5,3,2,4], [2,2,0,4,1], [2,1,8,4,2], [3,3,1,4,0]])\n",
    "D"
   ]
  },
  {
   "cell_type": "code",
   "execution_count": null,
   "metadata": {},
   "outputs": [],
   "source": [
    "L, U = gaussianSimple(D)"
   ]
  },
  {
   "cell_type": "code",
   "execution_count": null,
   "metadata": {},
   "outputs": [],
   "source": [
    "print(L, end='\\n\\n')\n",
    "print(U)"
   ]
  },
  {
   "cell_type": "code",
   "execution_count": null,
   "metadata": {},
   "outputs": [],
   "source": []
  }
 ],
 "metadata": {
  "kernelspec": {
   "display_name": "Python 3",
   "language": "python",
   "name": "python3"
  },
  "language_info": {
   "codemirror_mode": {
    "name": "ipython",
    "version": 3
   },
   "file_extension": ".py",
   "mimetype": "text/x-python",
   "name": "python",
   "nbconvert_exporter": "python",
   "pygments_lexer": "ipython3",
   "version": "3.6.10"
  }
 },
 "nbformat": 4,
 "nbformat_minor": 4
}
