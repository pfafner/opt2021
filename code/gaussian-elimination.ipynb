{
 "cells": [
  {
   "cell_type": "markdown",
   "metadata": {},
   "source": [
    "# <center> **Eliminación Gaussiana y Factoración LU** </center>\n",
    "## <font size=4> **Métodos Numéricos II** </font> <font color=gray size=4> -- Alan Reyes-Figueroa </font>"
   ]
  },
  {
   "cell_type": "code",
   "execution_count": 5,
   "metadata": {},
   "outputs": [],
   "source": [
    "import numpy as np\n",
    "from scipy import linalg as lg"
   ]
  },
  {
   "cell_type": "markdown",
   "metadata": {},
   "source": [
    "## Factoración Gaussiana"
   ]
  },
  {
   "cell_type": "code",
   "execution_count": 12,
   "metadata": {},
   "outputs": [],
   "source": [
    "# Algoritmo de eliminación gaussiana (o factoración LU), en el caso más simple\n",
    "def gaussianSimple(A):\n",
    "    ''' Finds the gaussian reduction (U) or the LU factorization of a matrix A.\n",
    "        Inputs:  A = matrix to reduce, as numpy array of shape (m,n).\n",
    "        Outputs: L = triangular inferior matrix of row reductions, as numpy array of shape (m,m).\n",
    "                 U = gaussian reduced matrix in row echelon form, as numpy array of shape (m,n).\n",
    "    '''\n",
    "    m, n = A.shape\n",
    "    U = A.copy()\n",
    "    L = np.eye(m)\n",
    "\n",
    "    for k in range(0, m-1):            # iteration over columns\n",
    "        for j in range(k+1, n):        # iteration over rows after k\n",
    "            if (U[k,k] != 0):\n",
    "                L[j,k] = U[j,k] / U[k,k]\n",
    "                U[j,k:n] = U[j,k:n] - L[j,k]*U[k,k:n]\n",
    "            else:\n",
    "                raise Exception('A has no LU factorization')\n",
    "    return L, U"
   ]
  },
  {
   "cell_type": "code",
   "execution_count": 13,
   "metadata": {},
   "outputs": [
    {
     "name": "stdout",
     "output_type": "stream",
     "text": [
      "[[8. 7. 9. 5.]\n",
      " [4. 3. 3. 1.]\n",
      " [2. 1. 1. 0.]\n",
      " [6. 7. 9. 8.]]\n"
     ]
    }
   ],
   "source": [
    "A = np.array([[8,7,9,5], [4,3,3,1], [2.,1,1,0], [6,7,9,8]])\n",
    "print(A)"
   ]
  },
  {
   "cell_type": "code",
   "execution_count": 14,
   "metadata": {},
   "outputs": [],
   "source": [
    "# descomposición LU\n",
    "L, U = gaussianSimple(A)"
   ]
  },
  {
   "cell_type": "code",
   "execution_count": 15,
   "metadata": {},
   "outputs": [
    {
     "name": "stdout",
     "output_type": "stream",
     "text": [
      "[[ 1.    0.    0.    0.  ]\n",
      " [ 0.5   1.    0.    0.  ]\n",
      " [ 0.25  1.5   1.    0.  ]\n",
      " [ 0.75 -3.5  -3.    1.  ]]\n",
      "\n",
      "[[ 8.   7.   9.   5. ]\n",
      " [ 0.  -0.5 -1.5 -1.5]\n",
      " [ 0.   0.   1.   1. ]\n",
      " [ 0.   0.   0.   2. ]]\n"
     ]
    }
   ],
   "source": [
    "print(L, end='\\n\\n')\n",
    "\n",
    "print(U)"
   ]
  },
  {
   "cell_type": "code",
   "execution_count": 16,
   "metadata": {},
   "outputs": [
    {
     "data": {
      "text/plain": [
       "array([[8., 7., 9., 5.],\n",
       "       [4., 3., 3., 1.],\n",
       "       [2., 1., 1., 0.],\n",
       "       [6., 7., 9., 8.]])"
      ]
     },
     "execution_count": 16,
     "metadata": {},
     "output_type": "execute_result"
    }
   ],
   "source": [
    "L @ U"
   ]
  },
  {
   "cell_type": "code",
   "execution_count": null,
   "metadata": {},
   "outputs": [],
   "source": []
  },
  {
   "cell_type": "code",
   "execution_count": 17,
   "metadata": {},
   "outputs": [
    {
     "name": "stdout",
     "output_type": "stream",
     "text": [
      "[[ 1.  3.  2.  5.]\n",
      " [ 2.  6.  3.  1.]\n",
      " [ 2.  6.  1.  0.]\n",
      " [-3. -9.  7.  8.]]\n"
     ]
    }
   ],
   "source": [
    "B = np.array([[1,3,2,5], [2,6,3,1], [2.,6,1,0], [-3,-9,7,8]])\n",
    "print(B)"
   ]
  },
  {
   "cell_type": "code",
   "execution_count": 18,
   "metadata": {},
   "outputs": [
    {
     "ename": "Exception",
     "evalue": "A has no LU factorization",
     "output_type": "error",
     "traceback": [
      "\u001b[1;31m---------------------------------------------------------------------------\u001b[0m",
      "\u001b[1;31mException\u001b[0m                                 Traceback (most recent call last)",
      "\u001b[1;32m<ipython-input-18-24d73e8a9e21>\u001b[0m in \u001b[0;36m<module>\u001b[1;34m\u001b[0m\n\u001b[1;32m----> 1\u001b[1;33m \u001b[0mL\u001b[0m\u001b[1;33m,\u001b[0m \u001b[0mU\u001b[0m \u001b[1;33m=\u001b[0m \u001b[0mgaussianSimple\u001b[0m\u001b[1;33m(\u001b[0m\u001b[0mB\u001b[0m\u001b[1;33m)\u001b[0m\u001b[1;33m\u001b[0m\u001b[1;33m\u001b[0m\u001b[0m\n\u001b[0m",
      "\u001b[1;32m<ipython-input-12-31a3a80a4ce4>\u001b[0m in \u001b[0;36mgaussianSimple\u001b[1;34m(A)\u001b[0m\n\u001b[0;32m     16\u001b[0m                 \u001b[0mU\u001b[0m\u001b[1;33m[\u001b[0m\u001b[0mj\u001b[0m\u001b[1;33m,\u001b[0m\u001b[0mk\u001b[0m\u001b[1;33m:\u001b[0m\u001b[0mn\u001b[0m\u001b[1;33m]\u001b[0m \u001b[1;33m=\u001b[0m \u001b[0mU\u001b[0m\u001b[1;33m[\u001b[0m\u001b[0mj\u001b[0m\u001b[1;33m,\u001b[0m\u001b[0mk\u001b[0m\u001b[1;33m:\u001b[0m\u001b[0mn\u001b[0m\u001b[1;33m]\u001b[0m \u001b[1;33m-\u001b[0m \u001b[0mL\u001b[0m\u001b[1;33m[\u001b[0m\u001b[0mj\u001b[0m\u001b[1;33m,\u001b[0m\u001b[0mk\u001b[0m\u001b[1;33m]\u001b[0m\u001b[1;33m*\u001b[0m\u001b[0mU\u001b[0m\u001b[1;33m[\u001b[0m\u001b[0mk\u001b[0m\u001b[1;33m,\u001b[0m\u001b[0mk\u001b[0m\u001b[1;33m:\u001b[0m\u001b[0mn\u001b[0m\u001b[1;33m]\u001b[0m\u001b[1;33m\u001b[0m\u001b[1;33m\u001b[0m\u001b[0m\n\u001b[0;32m     17\u001b[0m             \u001b[1;32melse\u001b[0m\u001b[1;33m:\u001b[0m\u001b[1;33m\u001b[0m\u001b[1;33m\u001b[0m\u001b[0m\n\u001b[1;32m---> 18\u001b[1;33m                 \u001b[1;32mraise\u001b[0m \u001b[0mException\u001b[0m\u001b[1;33m(\u001b[0m\u001b[1;34m'A has no LU factorization'\u001b[0m\u001b[1;33m)\u001b[0m\u001b[1;33m\u001b[0m\u001b[1;33m\u001b[0m\u001b[0m\n\u001b[0m\u001b[0;32m     19\u001b[0m     \u001b[1;32mreturn\u001b[0m \u001b[0mL\u001b[0m\u001b[1;33m,\u001b[0m \u001b[0mU\u001b[0m\u001b[1;33m\u001b[0m\u001b[1;33m\u001b[0m\u001b[0m\n",
      "\u001b[1;31mException\u001b[0m: A has no LU factorization"
     ]
    }
   ],
   "source": [
    "L, U = gaussianSimple(B)"
   ]
  },
  {
   "cell_type": "code",
   "execution_count": 16,
   "metadata": {},
   "outputs": [
    {
     "data": {
      "text/plain": [
       "array([[1., 0., 0., 0.],\n",
       "       [0., 0., 1., 0.],\n",
       "       [0., 1., 0., 0.],\n",
       "       [0., 0., 0., 1.]])"
      ]
     },
     "execution_count": 16,
     "metadata": {},
     "output_type": "execute_result"
    }
   ],
   "source": [
    "P"
   ]
  },
  {
   "cell_type": "code",
   "execution_count": 11,
   "metadata": {},
   "outputs": [
    {
     "data": {
      "text/plain": [
       "array([[ 1.,  3.,  2.,  5.],\n",
       "       [ 2.,  6.,  3.,  1.],\n",
       "       [ 2.,  6.,  1.,  0.],\n",
       "       [-3., -9.,  7.,  8.]])"
      ]
     },
     "execution_count": 11,
     "metadata": {},
     "output_type": "execute_result"
    }
   ],
   "source": [
    "np.linalg.inv(P) @ L @ U"
   ]
  },
  {
   "cell_type": "code",
   "execution_count": null,
   "metadata": {},
   "outputs": [],
   "source": []
  },
  {
   "cell_type": "code",
   "execution_count": 12,
   "metadata": {},
   "outputs": [
    {
     "name": "stdout",
     "output_type": "stream",
     "text": [
      "[[ 1.  3.  2.  5.]\n",
      " [ 2.  6.  3.  1.]\n",
      " [ 2.  8.  1.  0.]\n",
      " [-3. -9.  7.  8.]]\n"
     ]
    }
   ],
   "source": [
    "C = np.array([[1,3,2,5], [2,6,3,1], [2.,8,1,0], [-3,-9,7,8]])\n",
    "print(C)"
   ]
  },
  {
   "cell_type": "code",
   "execution_count": 13,
   "metadata": {},
   "outputs": [],
   "source": [
    "P, L, U, _ = gaussianReduction(C)"
   ]
  },
  {
   "cell_type": "code",
   "execution_count": 14,
   "metadata": {},
   "outputs": [
    {
     "data": {
      "text/plain": [
       "array([[1., 0., 0., 0.],\n",
       "       [0., 0., 1., 0.],\n",
       "       [0., 1., 0., 0.],\n",
       "       [0., 0., 0., 1.]])"
      ]
     },
     "execution_count": 14,
     "metadata": {},
     "output_type": "execute_result"
    }
   ],
   "source": [
    "P"
   ]
  },
  {
   "cell_type": "code",
   "execution_count": 15,
   "metadata": {},
   "outputs": [
    {
     "data": {
      "text/plain": [
       "array([[  1.,   0.,   0.,   0.],\n",
       "       [  2.,   1.,   0.,   0.],\n",
       "       [  2.,   0.,   1.,   0.],\n",
       "       [ -3.,   0., -13.,   1.]])"
      ]
     },
     "execution_count": 15,
     "metadata": {},
     "output_type": "execute_result"
    }
   ],
   "source": [
    "L"
   ]
  },
  {
   "cell_type": "code",
   "execution_count": 17,
   "metadata": {},
   "outputs": [
    {
     "data": {
      "text/plain": [
       "array([[ 1.,  3.,  2.,  5.],\n",
       "       [ 2.,  6.,  3.,  1.],\n",
       "       [ 2.,  8.,  1.,  0.],\n",
       "       [-3., -9.,  7.,  8.]])"
      ]
     },
     "execution_count": 17,
     "metadata": {},
     "output_type": "execute_result"
    }
   ],
   "source": [
    "np.linalg.inv(P) @ L @ U"
   ]
  },
  {
   "cell_type": "code",
   "execution_count": null,
   "metadata": {},
   "outputs": [],
   "source": []
  },
  {
   "cell_type": "markdown",
   "metadata": {},
   "source": [
    "## Cálculo del Determinante"
   ]
  },
  {
   "cell_type": "code",
   "execution_count": 18,
   "metadata": {},
   "outputs": [
    {
     "data": {
      "text/plain": [
       "-7.999999999999998"
      ]
     },
     "execution_count": 18,
     "metadata": {},
     "output_type": "execute_result"
    }
   ],
   "source": [
    "np.linalg.det(A)"
   ]
  },
  {
   "cell_type": "code",
   "execution_count": 19,
   "metadata": {},
   "outputs": [
    {
     "data": {
      "text/plain": [
       "-8.0"
      ]
     },
     "execution_count": 19,
     "metadata": {},
     "output_type": "execute_result"
    }
   ],
   "source": [
    "Determinante(A)"
   ]
  },
  {
   "cell_type": "code",
   "execution_count": 20,
   "metadata": {},
   "outputs": [
    {
     "data": {
      "text/plain": [
       "-8.49320613838242e-15"
      ]
     },
     "execution_count": 20,
     "metadata": {},
     "output_type": "execute_result"
    }
   ],
   "source": [
    "np.linalg.det(B)"
   ]
  },
  {
   "cell_type": "code",
   "execution_count": 21,
   "metadata": {},
   "outputs": [
    {
     "data": {
      "text/plain": [
       "0.0"
      ]
     },
     "execution_count": 21,
     "metadata": {},
     "output_type": "execute_result"
    }
   ],
   "source": [
    "Determinante(B)"
   ]
  },
  {
   "cell_type": "code",
   "execution_count": 22,
   "metadata": {},
   "outputs": [
    {
     "data": {
      "text/plain": [
       "-188.0"
      ]
     },
     "execution_count": 22,
     "metadata": {},
     "output_type": "execute_result"
    }
   ],
   "source": [
    "np.linalg.det(C)"
   ]
  },
  {
   "cell_type": "code",
   "execution_count": 23,
   "metadata": {},
   "outputs": [
    {
     "data": {
      "text/plain": [
       "-188.0"
      ]
     },
     "execution_count": 23,
     "metadata": {},
     "output_type": "execute_result"
    }
   ],
   "source": [
    "Determinante(C)"
   ]
  },
  {
   "cell_type": "code",
   "execution_count": null,
   "metadata": {},
   "outputs": [],
   "source": []
  },
  {
   "cell_type": "markdown",
   "metadata": {},
   "source": [
    "## Resolver un sistema $A\\mathbf{x} = \\mathbf{b}$"
   ]
  },
  {
   "cell_type": "code",
   "execution_count": 255,
   "metadata": {},
   "outputs": [],
   "source": [
    "def GaussJordan(A):\n",
    "    m, n = A.shape\n",
    "    U = A.copy()\n",
    "    L1 = np.eye(m)\n",
    "    P1 = np.eye(m)\n",
    "    L2 = np.eye(m)\n",
    "    P2 = np.eye(m)\n",
    "    sign = 1\n",
    "\n",
    "    # first stage\n",
    "    #print('Primera Etapa. \\n')\n",
    "    for j in range(0, m-1):\n",
    "        #print('Paso columna {}: \\n'.format(j+1))\n",
    "        for i in range(j+1, m):\n",
    "            if (U[j,j] == 0):\n",
    "                if (U[j+1:m,j].sum() != 0.):\n",
    "                    k = j+1 + np.argwhere(U[j+1:m,j] != 0.)[0][0]\n",
    "                    U[[j,k],:] = U[[k,j],:]\n",
    "                    P1[[j,k],:] = P1[[k,j],:]\n",
    "                    sign = -sign\n",
    "\n",
    "            if (U[j,j] != 0.):\n",
    "                L1[i,j] = U[i,j] / U[j,j]\n",
    "                U[i,j:] = U[i,j:] - L1[i,j]*U[j,j:]\n",
    "            #print(L1, end='\\n\\n')\n",
    "            #print(U, end='\\n\\n')\n",
    "\n",
    "    # diagonal\n",
    "    for j in range(0, m):\n",
    "        if (U[j,j] != 0.):\n",
    "            L1[j,j] = 1. / U[j,j]\n",
    "            U[j,:] = U[j,:] / U[j,j]\n",
    "        \n",
    "    # second stage\n",
    "    #print('Segunda Etapa. \\n')\n",
    "    for j in range(1, m)[::-1]:\n",
    "        #print('Paso columna {}: \\n'.format(j+1))\n",
    "        for i in range(0, j):\n",
    "            if (U[j,j] == 0):\n",
    "                if (U[0:j,j].sum() != 0.):\n",
    "                    k = np.argwhere(U[0:j,j] != 0.)[0][0]\n",
    "                    U[[j,k],:] = U[[k,j],:]\n",
    "                    P2[[j,k],:] = P2[[k,j],:]\n",
    "                    sign = -sign\n",
    "\n",
    "            if (U[j,j] != 0.):\n",
    "                L2[i,j] = U[i,j] / U[j,j]\n",
    "                U[i,:] = U[i,:] - L2[i,j]*U[j,:]\n",
    "            #print(L2, end='\\n\\n')\n",
    "            #print(U, end='\\n\\n')\n",
    "\n",
    "    return U"
   ]
  },
  {
   "cell_type": "code",
   "execution_count": null,
   "metadata": {},
   "outputs": [],
   "source": []
  },
  {
   "cell_type": "code",
   "execution_count": 24,
   "metadata": {},
   "outputs": [],
   "source": [
    "b = np.array([0., 1, 0, 0])"
   ]
  },
  {
   "cell_type": "code",
   "execution_count": 25,
   "metadata": {},
   "outputs": [
    {
     "data": {
      "text/plain": [
       "array([-0.75,  2.5 , -1.  , -0.5 ])"
      ]
     },
     "execution_count": 25,
     "metadata": {},
     "output_type": "execute_result"
    }
   ],
   "source": [
    "x = SolveAxb(A, b)\n",
    "x"
   ]
  },
  {
   "cell_type": "code",
   "execution_count": null,
   "metadata": {},
   "outputs": [],
   "source": []
  },
  {
   "cell_type": "markdown",
   "metadata": {},
   "source": [
    "## Cálculo de la inversa"
   ]
  },
  {
   "cell_type": "code",
   "execution_count": 257,
   "metadata": {},
   "outputs": [
    {
     "data": {
      "text/plain": [
       "array([[8., 7., 9., 5., 1., 0., 0., 0.],\n",
       "       [4., 3., 3., 1., 0., 1., 0., 0.],\n",
       "       [2., 1., 1., 0., 0., 0., 1., 0.],\n",
       "       [6., 7., 9., 8., 0., 0., 0., 1.]])"
      ]
     },
     "execution_count": 257,
     "metadata": {},
     "output_type": "execute_result"
    }
   ],
   "source": [
    "I = np.eye(A.shape[0])\n",
    "# matriz extendida\n",
    "H = np.hstack([A,I])\n",
    "H"
   ]
  },
  {
   "cell_type": "code",
   "execution_count": 259,
   "metadata": {},
   "outputs": [
    {
     "data": {
      "text/plain": [
       "array([[ 1.  ,  0.  ,  0.  ,  0.  , -0.25, -0.75,  2.25,  0.25],\n",
       "       [-0.  ,  1.  ,  0.  ,  0.  , -0.5 ,  2.5 , -3.  ,  0.  ],\n",
       "       [ 0.  ,  0.  ,  1.  ,  0.  ,  1.  , -1.  , -0.5 , -0.5 ],\n",
       "       [ 0.  ,  0.  ,  0.  ,  1.  , -0.5 , -0.5 ,  1.5 ,  0.5 ]])"
      ]
     },
     "execution_count": 259,
     "metadata": {},
     "output_type": "execute_result"
    }
   ],
   "source": [
    "U = GaussJordan(H)\n",
    "np.round(U, 3)"
   ]
  },
  {
   "cell_type": "code",
   "execution_count": 27,
   "metadata": {},
   "outputs": [
    {
     "data": {
      "text/plain": [
       "array([[-0.25, -0.75,  2.25,  0.25],\n",
       "       [-0.5 ,  2.5 , -3.  , -0.  ],\n",
       "       [ 1.  , -1.  , -0.5 , -0.5 ],\n",
       "       [-0.5 , -0.5 ,  1.5 ,  0.5 ]])"
      ]
     },
     "execution_count": 27,
     "metadata": {},
     "output_type": "execute_result"
    }
   ],
   "source": [
    "iA = np.round(np.linalg.inv(A), 3)\n",
    "iA"
   ]
  },
  {
   "cell_type": "code",
   "execution_count": 28,
   "metadata": {},
   "outputs": [
    {
     "data": {
      "text/plain": [
       "array([[-0.25, -0.75,  2.25,  0.25],\n",
       "       [-0.5 ,  2.5 , -3.  ,  0.  ],\n",
       "       [ 1.  , -1.  , -0.5 , -0.5 ],\n",
       "       [-0.5 , -0.5 ,  1.5 ,  0.5 ]])"
      ]
     },
     "execution_count": 28,
     "metadata": {},
     "output_type": "execute_result"
    }
   ],
   "source": [
    "Inversa(A)"
   ]
  },
  {
   "cell_type": "code",
   "execution_count": 29,
   "metadata": {},
   "outputs": [
    {
     "data": {
      "text/plain": [
       "array([[1., 0., 0., 0.],\n",
       "       [0., 1., 0., 0.],\n",
       "       [0., 0., 1., 0.],\n",
       "       [0., 0., 0., 1.]])"
      ]
     },
     "execution_count": 29,
     "metadata": {},
     "output_type": "execute_result"
    }
   ],
   "source": [
    "A @ iA"
   ]
  },
  {
   "cell_type": "code",
   "execution_count": 30,
   "metadata": {},
   "outputs": [
    {
     "data": {
      "text/plain": [
       "array([[1., 0., 0., 0.],\n",
       "       [0., 1., 0., 0.],\n",
       "       [0., 0., 1., 0.],\n",
       "       [0., 0., 0., 1.]])"
      ]
     },
     "execution_count": 30,
     "metadata": {},
     "output_type": "execute_result"
    }
   ],
   "source": [
    "iA @ A"
   ]
  },
  {
   "cell_type": "code",
   "execution_count": null,
   "metadata": {},
   "outputs": [],
   "source": []
  }
 ],
 "metadata": {
  "kernelspec": {
   "display_name": "Python 3",
   "language": "python",
   "name": "python3"
  },
  "language_info": {
   "codemirror_mode": {
    "name": "ipython",
    "version": 3
   },
   "file_extension": ".py",
   "mimetype": "text/x-python",
   "name": "python",
   "nbconvert_exporter": "python",
   "pygments_lexer": "ipython3",
   "version": "3.6.10"
  }
 },
 "nbformat": 4,
 "nbformat_minor": 4
}
